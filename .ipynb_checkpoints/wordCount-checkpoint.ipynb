{
 "cells": [
  {
   "cell_type": "code",
   "execution_count": 1,
   "metadata": {},
   "outputs": [],
   "source": [
    "# encoding=utf-8\n",
    "import csv\n",
    "import collections\n",
    "import numpy as np\n",
    "import pandas as pd\n",
    "import jieba\n",
    "import re\n",
    "def judge_pure_english(keyword):  \n",
    "    return all(ord(c) < 128 for c in keyword)  \n",
    "\n",
    "def scut(t):\n",
    "    vec=[]\n",
    "    for y in jieba.cut(t):\n",
    "        if judge_pure_english(y):\n",
    "            vec.append(y)\n",
    "        else:\n",
    "            for yy in y:\n",
    "                vec.append(yy)\n",
    "    return vec\n",
    "def stripE(t):\n",
    "    vec=''\n",
    "    for y in jieba.cut(t):\n",
    "        if judge_pure_english(y):\n",
    "            pass\n",
    "        else:\n",
    "            for yy in y:\n",
    "                vec+=yy\n",
    "    return vec\n",
    "\n",
    "def regress(file=\"2.txt\"):   \n",
    "    data = pd.read_csv(file,header=None)  #使用pd读取源文件\n",
    "    train_data = np.array(data.T)    #源文件为一维数据，需要对data进行倒置处理,data.T\n",
    "    train_x_list=train_data.tolist()\n",
    "    train_x_list=train_x_list[0]\n",
    "    train_x_list=[re.sub(\"[\\s+\\.\\!\\/_,$%^*(+\\\"\\']+|[+——！，。？、~@#￥%……&*（）]+\", \"\",x).strip(\" \") for x in train_x_list]#去除不必要的符号  \n",
    "\n",
    "    jj=[]\n",
    "    for t in train_x_list:\n",
    "        #print(scut(t))\n",
    "        jj.extend(scut(t))\n",
    "\n",
    "    all_words = collections.Counter(jj)\n",
    "\n",
    "    all_words_dict = dict(all_words)   #将class格式转化为dict格式\n",
    "\n",
    "    word_dict_sort = sorted(all_words_dict.items(), key=lambda item: item[1], reverse=True) #排序\n",
    "\n",
    "    return word_dict_sort\n",
    "\n",
    "def full2half(s):\n",
    "    n = []\n",
    "    s=s.encode('utf-8') \n",
    "    s = s.decode('utf-8')\n",
    "    for char in s:\n",
    "        num = ord(char)\n",
    "        if num == 0x3000:\n",
    "            num = 32\n",
    "        elif 0xFF01 <= num <= 0xFF5E:\n",
    "            num -= 0xfee0\n",
    "        num = chr(num)\n",
    "        n.append(num)\n",
    "    return ''.join(n)"
   ]
  },
  {
   "cell_type": "code",
   "execution_count": 2,
   "metadata": {},
   "outputs": [
    {
     "name": "stderr",
     "output_type": "stream",
     "text": [
      "Building prefix dict from the default dictionary ...\n",
      "Loading model from cache C:\\Users\\CHENCA~1\\AppData\\Local\\Temp\\jieba.cache\n",
      "Loading model cost 0.816 seconds.\n",
      "Prefix dict has been built succesfully.\n"
     ]
    }
   ],
   "source": [
    "wordCountY=regress(file='1.txt')\n",
    "\n",
    "wordCountO=regress(file='2.txt')\n"
   ]
  },
  {
   "cell_type": "code",
   "execution_count": 3,
   "metadata": {},
   "outputs": [],
   "source": [
    "def preEdit(file):\n",
    "    data = pd.read_csv(file,header=None)  #使用pd读取源文件\n",
    "    train_data = np.array(data.T)    #源文件为一维数据，需要对data进行倒置处理,data.T\n",
    "    train_x_list=train_data.tolist()\n",
    "    train_x_list=train_x_list[0]\n",
    "\n",
    "    train_x_list=[re.sub(\"[\\s+\\.\\!\\/_,$%^*(+\\\"\\']+|[+——！，。？、~@#￥%……&*（）]+\", \"\",x).strip(\" \") for x in train_x_list]\n",
    "    #去除不必要的符号  \n",
    "    return train_x_list\n",
    "\n",
    "def doubleSyllabus(t):\n",
    "    status=False\n",
    "    lenth=len(t)\n",
    "    for i in range(1,lenth):\n",
    "        if t[i]==t[i-1]:\n",
    "            status=True\n",
    "            return status\n",
    "    return status\n",
    "\n",
    "def findALLdoubleS(train_x_list):\n",
    "    vec=[]\n",
    "    for t in train_x_list:\n",
    "        if doubleSyllabus(stripE(t)):\n",
    "            vec.append(t)\n",
    "    return vec"
   ]
  },
  {
   "cell_type": "code",
   "execution_count": 4,
   "metadata": {},
   "outputs": [],
   "source": [
    "file1='1.txt'\n",
    "file2='2.txt'"
   ]
  },
  {
   "cell_type": "code",
   "execution_count": 5,
   "metadata": {},
   "outputs": [],
   "source": [
    "train_x_list_Y=preEdit(file1)"
   ]
  },
  {
   "cell_type": "code",
   "execution_count": 6,
   "metadata": {},
   "outputs": [],
   "source": [
    "train_x_list_O=preEdit(file2)"
   ]
  },
  {
   "cell_type": "code",
   "execution_count": 7,
   "metadata": {},
   "outputs": [
    {
     "data": {
      "text/plain": [
       "['毕岑岑', '叮叮当当', '莉莉', '露露', '木木子', '秃发勃勃']"
      ]
     },
     "execution_count": 7,
     "metadata": {},
     "output_type": "execute_result"
    }
   ],
   "source": [
    "findALLdoubleS(train_x_list_Y)"
   ]
  },
  {
   "cell_type": "code",
   "execution_count": 8,
   "metadata": {},
   "outputs": [
    {
     "data": {
      "text/plain": [
       "['涵涵妈', '旺旺', '甜甜', '依依', '小菲菲符号', '年年有鱼']"
      ]
     },
     "execution_count": 8,
     "metadata": {},
     "output_type": "execute_result"
    }
   ],
   "source": [
    "findALLdoubleS(train_x_list_O)"
   ]
  },
  {
   "cell_type": "code",
   "execution_count": 9,
   "metadata": {},
   "outputs": [],
   "source": [
    "def ECsplit(t):\n",
    "    vecE=[]\n",
    "    vecC=''\n",
    "    for y in jieba.cut(t):\n",
    "        if judge_pure_english(y):\n",
    "            y=re.sub(\"[\\s+\\.\\!\\/_,$%^*(+\\\"\\']+|[+——！，。？、~@#￥%……&*（）]+\", \"\",y).strip(\" \")\n",
    "            if len(y)!=0:\n",
    "                vecE.append(y)\n",
    "        else:\n",
    "            for yy in y:\n",
    "                vecC+=yy\n",
    "    return (vecE,vecC)\n",
    "\n",
    "def CountNSyllabus(t):\n",
    "    x=ECsplit(t)\n",
    "    return len(x[0])+len(x[1])\n",
    "\n",
    "def findALLnS(train_x_list):\n",
    "    vec=[]\n",
    "    for t in train_x_list:\n",
    "        vec.append(CountNSyllabus(t))\n",
    "    return vec"
   ]
  },
  {
   "cell_type": "code",
   "execution_count": 10,
   "metadata": {},
   "outputs": [],
   "source": [
    "CountY=findALLnS(train_x_list_Y)"
   ]
  },
  {
   "cell_type": "code",
   "execution_count": 11,
   "metadata": {},
   "outputs": [],
   "source": [
    "CountO=findALLnS(train_x_list_O)"
   ]
  },
  {
   "cell_type": "code",
   "execution_count": 34,
   "metadata": {},
   "outputs": [
    {
     "data": {
      "text/plain": [
       "<matplotlib.axes._subplots.AxesSubplot at 0x272e1823860>"
      ]
     },
     "execution_count": 34,
     "metadata": {},
     "output_type": "execute_result"
    },
    {
     "data": {
      "image/png": "[encoded data removed]",
      "text/plain": [
       "<matplotlib.figure.Figure at 0x272e17f4cf8>"
      ]
     },
     "metadata": {},
     "output_type": "display_data"
    }
   ],
   "source": [
    "vecY=[]\n",
    "for i in range(len(train_x_list_Y)):\n",
    "    vecY.append((train_x_list_Y[i],CountY[i]))\n",
    "\n",
    "dfY=pd.DataFrame(vecY)\n",
    "\n",
    "dfY.columns=['name','nSyllabus']\n",
    "\n",
    "dfY.groupby(['nSyllabus']).count().plot(kind='bar',title='Young')"
   ]
  },
  {
   "cell_type": "code",
   "execution_count": 36,
   "metadata": {},
   "outputs": [
    {
     "data": {
      "text/plain": [
       "<matplotlib.axes._subplots.AxesSubplot at 0x272e1957390>"
      ]
     },
     "execution_count": 36,
     "metadata": {},
     "output_type": "execute_result"
    },
    {
     "data": {
      "image/png": "[encoded data removed]",
      "text/plain": [
       "<matplotlib.figure.Figure at 0x272e18651d0>"
      ]
     },
     "metadata": {},
     "output_type": "display_data"
    }
   ],
   "source": [
    "vecO=[]\n",
    "for i in range(len(train_x_list_O)):\n",
    "    vecO.append((train_x_list_O[i],CountO[i]))\n",
    "\n",
    "dfO=pd.DataFrame(vecO)\n",
    "\n",
    "dfO.columns=['name','nSyllabus']\n",
    "\n",
    "dfO.groupby(['nSyllabus']).count().plot(kind='bar',title='Old')"
   ]
  },
  {
   "cell_type": "code",
   "execution_count": null,
   "metadata": {},
   "outputs": [],
   "source": []
  },
  {
   "cell_type": "code",
   "execution_count": null,
   "metadata": {},
   "outputs": [],
   "source": []
  }
 ],
 "metadata": {
  "kernelspec": {
   "display_name": "Python 3",
   "language": "python",
   "name": "python3"
  },
  "language_info": {
   "codemirror_mode": {
    "name": "ipython",
    "version": 3
   },
   "file_extension": ".py",
   "mimetype": "text/x-python",
   "name": "python",
   "nbconvert_exporter": "python",
   "pygments_lexer": "ipython3",
   "version": "3.6.4"
  }
 },
 "nbformat": 4,
 "nbformat_minor": 2
}
